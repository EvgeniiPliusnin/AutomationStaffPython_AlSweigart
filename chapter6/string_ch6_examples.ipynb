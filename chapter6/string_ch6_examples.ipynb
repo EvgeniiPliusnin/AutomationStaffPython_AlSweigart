{
 "cells": [
  {
   "cell_type": "code",
   "execution_count": 3,
   "metadata": {},
   "outputs": [],
   "source": [
    "spam = \"That is Alice's cat\"\n"
   ]
  },
  {
   "cell_type": "code",
   "execution_count": 11,
   "metadata": {},
   "outputs": [
    {
     "name": "stdout",
     "output_type": "stream",
     "text": [
      "***********************************888\n",
      "\n",
      "aasdf\\\n",
      "\n",
      "print\n",
      "\n"
     ]
    }
   ],
   "source": [
    "print(\"***********************************888\")\n",
    "print('''\n",
    "aasdf\\\\\\n\n",
    "print\n",
    "''')"
   ]
  },
  {
   "cell_type": "code",
   "execution_count": 11,
   "metadata": {},
   "outputs": [
    {
     "data": {
      "text/plain": [
       "True"
      ]
     },
     "execution_count": 11,
     "metadata": {},
     "output_type": "execute_result"
    }
   ],
   "source": [
    "spam = \"Hello, world!\"\n",
    "spam[12]\n",
    "'' in ''    # ???"
   ]
  },
  {
   "cell_type": "code",
   "execution_count": 17,
   "metadata": {},
   "outputs": [
    {
     "name": "stdout",
     "output_type": "stream",
     "text": [
      "my name is el. And I am 4000 old\n"
     ]
    }
   ],
   "source": [
    "name = \"el\"\n",
    "age = 4000\n",
    "print(f\"my name is {name}. And I am {age} old\")"
   ]
  },
  {
   "cell_type": "code",
   "execution_count": 24,
   "metadata": {},
   "outputs": [
    {
     "name": "stdout",
     "output_type": "stream",
     "text": [
      "EXAMPLE\n",
      "example\n"
     ]
    }
   ],
   "source": [
    "spam = \"EXAMPLE\"\n",
    "print(spam.upper())\n",
    "print(spam.lower())"
   ]
  },
  {
   "cell_type": "code",
   "execution_count": 31,
   "metadata": {},
   "outputs": [
    {
     "name": "stdout",
     "output_type": "stream",
     "text": [
      "True\n",
      "True\n"
     ]
    }
   ],
   "source": [
    "#startswith()\n",
    "#endswitch()\n",
    "spam = \"Hello, world!\"\n",
    "print(spam.startswith(\"Hello\"))\n",
    "print(spam.endswith(\"ld!\"))"
   ]
  },
  {
   "cell_type": "code",
   "execution_count": 34,
   "metadata": {},
   "outputs": [
    {
     "name": "stdout",
     "output_type": "stream",
     "text": [
      "cats, mouses, animals\n"
     ]
    }
   ],
   "source": [
    "#join\n",
    "\n",
    "print(\", \".join([\"cats\", \"mouses\", \"animals\"]))"
   ]
  },
  {
   "cell_type": "code",
   "execution_count": 45,
   "metadata": {},
   "outputs": [
    {
     "name": "stdout",
     "output_type": "stream",
     "text": [
      "my\n",
      "name\n",
      "is\n",
      "evgenii\n"
     ]
    }
   ],
   "source": [
    "#split\n",
    "list_word = \"my name is evgenii\".split()\n",
    "for word in list_word:\n",
    "    print(word)\n",
    "\n"
   ]
  }
 ],
 "metadata": {
  "kernelspec": {
   "display_name": "Python 3.8.10 64-bit",
   "language": "python",
   "name": "python3"
  },
  "language_info": {
   "codemirror_mode": {
    "name": "ipython",
    "version": 3
   },
   "file_extension": ".py",
   "mimetype": "text/x-python",
   "name": "python",
   "nbconvert_exporter": "python",
   "pygments_lexer": "ipython3",
   "version": "3.8.10"
  },
  "orig_nbformat": 4,
  "vscode": {
   "interpreter": {
    "hash": "916dbcbb3f70747c44a77c7bcd40155683ae19c65e1c03b4aa3499c5328201f1"
   }
  }
 },
 "nbformat": 4,
 "nbformat_minor": 2
}
